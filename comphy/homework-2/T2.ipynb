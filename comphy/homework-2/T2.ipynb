{
 "cells": [
  {
   "cell_type": "code",
   "execution_count": 1,
   "metadata": {},
   "outputs": [],
   "source": [
    "import sympy "
   ]
  },
  {
   "cell_type": "markdown",
   "metadata": {},
   "source": [
    "## part a"
   ]
  },
  {
   "cell_type": "code",
   "execution_count": 15,
   "metadata": {},
   "outputs": [
    {
     "name": "stdout",
     "output_type": "stream",
     "text": [
      "b_2_=-1.19082\n",
      "c_1_=0.13132\n",
      "c_2_=-0.58316\n",
      "b_1_=0.00000\n",
      "d_1_=1.00000\n",
      "d_2_=0.93590\n",
      "a_1_=-0.66156\n",
      "a_2_=1.32313\n"
     ]
    }
   ],
   "source": [
    "y2,y1,y0,h1,h0,b2,c1,c2=sympy.symbols(\"y_2,y_1,y_0,h_1,h_0,b_2,c_1,c_2\")\n",
    "\n",
    "f1= h0**2*sympy.Rational(1,3)*b2+h0*c1 -(y1-y0)\n",
    "f2=(-1/(3*h1)*h1**3+h1**2)*b2+c2*h1-(y2-y1)\n",
    "f3=(h0*b2+c1-c2)\n",
    "b1,d1,d2,a1,a2=sympy.symbols(\"b_1,d_1,d_2,a_1,a_2\")\n",
    "\n",
    "\n",
    "other_vars={b1:sympy.Number(0),\n",
    "d1:y0,d2:y1,a1:b2/(3*h0),a2:-b2/(3*h1)}\n",
    "\n",
    "s=sympy.solve([f1,f2,f3],[b2,c1,c2])\n",
    "from math import cos\n",
    "from IPython.display import display_latex,Latex\n",
    "\n",
    "x0,x1,x2=0,0.6,0.9\n",
    "\n",
    "y0_,y1_,y2_=[cos(x**2) for x in [x0,x1,x2]]\n",
    "subval = [(h0,x1-x0),(h1,x2-x1),(y0,y0_),(y1,y1_),(y2,y2_)]\n",
    "\n",
    "for k,v in s.items():\n",
    "    value=v.subs(subval)\n",
    "    print(f\"{k}_={value:.5f}\")\n",
    "    subval.append((k,value))\n",
    "for k,v in other_vars.items():\n",
    "    value=float(v.subs(subval))\n",
    "    print(f\"{k}_={value:.5f}\")"
   ]
  },
  {
   "cell_type": "markdown",
   "metadata": {},
   "source": [
    "## part b"
   ]
  },
  {
   "cell_type": "code",
   "execution_count": 10,
   "metadata": {},
   "outputs": [
    {
     "name": "stdout",
     "output_type": "stream",
     "text": [
      "{a_1: (2*h_0**2*h_1*t_0 - h_0**2*h_1*t_2 - 3*h_0**2*y_1 + 3*h_0**2*y_2 + h_0*h_1**2*t_0 + 4*h_0*h_1*y_0 - 4*h_0*h_1*y_1 + h_1**2*y_0 - h_1**2*y_1)/(2*h_0**4*h_1 + 2*h_0**3*h_1**2), a_2: (h_0**2*h_1*t_2 + h_0**2*y_1 - h_0**2*y_2 - h_0*h_1**2*t_0 + 2*h_0*h_1**2*t_2 + 4*h_0*h_1*y_1 - 4*h_0*h_1*y_2 - 3*h_1**2*y_0 + 3*h_1**2*y_1)/(2*h_0**2*h_1**3 + 2*h_0*h_1**4), b_1: (-4*h_0**2*h_1*t_0 + h_0**2*h_1*t_2 + 3*h_0**2*y_1 - 3*h_0**2*y_2 - 3*h_0*h_1**2*t_0 - 6*h_0*h_1*y_0 + 6*h_0*h_1*y_1 - 3*h_1**2*y_0 + 3*h_1**2*y_1)/(2*h_0**3*h_1 + 2*h_0**2*h_1**2), b_2: (h_0*h_1*t_0 - h_0*h_1*t_2 - 3*h_0*y_1 + 3*h_0*y_2 + 3*h_1*y_0 - 3*h_1*y_1)/(h_0**2*h_1 + h_0*h_1**2), c_1: t_0, c_2: (-h_0**2*h_1*t_2 - 3*h_0**2*y_1 + 3*h_0**2*y_2 - h_0*h_1**2*t_0 - 3*h_1**2*y_0 + 3*h_1**2*y_1)/(2*h_0**2*h_1 + 2*h_0*h_1**2), d_1: y_0, d_2: y_1}\n"
     ]
    }
   ],
   "source": [
    "import sympy\n",
    "b1,d1,d2,a1,a2=sympy.symbols(\"b_1,d_1,d_2,a_1,a_2\")\n",
    "y2,y1,y0,h1,h0,b2,c1,c2=sympy.symbols(\"y_2,y_1,y_0,h_1,h_0,b_2,c_1,c_2\")\n",
    "t0,t2=sympy.symbols(\"t_0,t_2\")\n",
    "f1=c1-t0\n",
    "f2=3*a2*h1**2+2*b2*h1+c2-t2\n",
    "f3=6*a1*h0+2*b1-2*b2\n",
    "f4=3*a1*h0**2+2*b1*h0+c1-c2 \n",
    "f5=d1-y0 \n",
    "f6=a1*h0**3+b1*h0**2+c1*h0+d1-y1\n",
    "f7=d2-y1\n",
    "f8=a2*h1**3+b2*h1**2+c2*h1+d2-y2\n",
    "\n",
    "solution = sympy.solve([f1,f2,f3,f4,f5,f6,f7,f8],[a1,a2,b1,b2,c1,c2,d1,d2])\n",
    "print(solution)"
   ]
  },
  {
   "cell_type": "code",
   "execution_count": 12,
   "metadata": {},
   "outputs": [
    {
     "name": "stdout",
     "output_type": "stream",
     "text": [
      "a_1=-0.62916\n",
      "a_2=-1.12487\n",
      "b_1=0.19943\n",
      "b_2=-0.93305\n",
      "c_1=0.00000\n",
      "c_2=-0.44017\n",
      "d_1=1.00000\n",
      "d_2=0.93590\n"
     ]
    }
   ],
   "source": [
    "x0,x1,x2=0,0.6,0.9\n",
    "from math import cos\n",
    "y0_,y1_,y2_=[cos(x**2) for x in [x0,x1,x2]]\n",
    "subval = [(h0,x1-x0),(h1,x2-x1),(y0,y0_),(y1,y1_),(y2,y2_),(t0,0),(t2,-1.30372)]\n",
    "\n",
    "for k,v in solution.items():\n",
    "    value=float(v.subs(subval))\n",
    "    print(f\"{k}={value:.5f}\")\n",
    "    subval.append((k,value))"
   ]
  },
  {
   "cell_type": "code",
   "execution_count": null,
   "metadata": {},
   "outputs": [],
   "source": []
  }
 ],
 "metadata": {
  "kernelspec": {
   "display_name": "Python 3.9.7 ('base')",
   "language": "python",
   "name": "python3"
  },
  "language_info": {
   "codemirror_mode": {
    "name": "ipython",
    "version": 3
   },
   "file_extension": ".py",
   "mimetype": "text/x-python",
   "name": "python",
   "nbconvert_exporter": "python",
   "pygments_lexer": "ipython3",
   "version": "3.9.7"
  },
  "orig_nbformat": 4,
  "vscode": {
   "interpreter": {
    "hash": "5179d32cf6ec497baf3f8a3ef987cc77c5d2dc691fdde20a56316522f61a7323"
   }
  }
 },
 "nbformat": 4,
 "nbformat_minor": 2
}

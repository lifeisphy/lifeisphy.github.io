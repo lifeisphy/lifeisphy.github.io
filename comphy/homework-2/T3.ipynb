{
 "cells": [
  {
   "cell_type": "code",
   "execution_count": 12,
   "metadata": {},
   "outputs": [],
   "source": [
    "from matplotlib import pyplot as plt \n",
    "import numpy as np \n",
    "from math import * \n",
    "def chebyshev(n):\n",
    "    return lambda x:cos(n*acos(x))\n",
    "\n",
    "def chebyshev_expansion(f,truncate=5,nmax=100):\n",
    "    '''\n",
    "    f: x\\in [0,1]\n",
    "    '''\n",
    "    coeffs=[]\n",
    "    def delta(a,b):\n",
    "        return 1 if a==b else 0\n",
    "    for m in range(truncate):\n",
    "        c=0\n",
    "        l=(2- delta(0,m))/nmax\n",
    "        for n in range(nmax):\n",
    "           c+= f(cos(pi*(n+0.5)/nmax))*cos(m*pi*(n+0.5)/nmax)\n",
    "        c*= l \n",
    "        coeffs.append(c)\n",
    "    return coeffs \n"
   ]
  },
  {
   "cell_type": "code",
   "execution_count": 16,
   "metadata": {},
   "outputs": [
    {
     "data": {
      "image/png": "[encoded data removed]",
      "text/plain": [
       "<Figure size 432x288 with 1 Axes>"
      ]
     },
     "metadata": {
      "needs_background": "light"
     },
     "output_type": "display_data"
    }
   ],
   "source": [
    "x=np.linspace(-1,1,1000)\n",
    "# y1=[[chebyshev(i)(a) for a in x] for i in range(7) ]\n",
    "order=3\n",
    "def origin(x):\n",
    "    return log2((x+3)/2)\n",
    "expansion=chebyshev_expansion(origin,order,10)\n",
    "def f(x):\n",
    "    return sum([coeff*chebyshev(i)(x) for i,coeff in enumerate(expansion)]) \n",
    "y1 = [origin(i) for i in x]\n",
    "y2 = [f(i) for i in x]\n",
    "\n",
    "plt.plot(x,y1,label=\"origin\")\n",
    "plt.plot(x,y2,label=\"expand\")\n",
    "plt.legend()\n",
    "plt.show()\n"
   ]
  },
  {
   "cell_type": "code",
   "execution_count": null,
   "metadata": {},
   "outputs": [],
   "source": []
  }
 ],
 "metadata": {
  "kernelspec": {
   "display_name": "Python 3.9.7 ('base')",
   "language": "python",
   "name": "python3"
  },
  "language_info": {
   "codemirror_mode": {
    "name": "ipython",
    "version": 3
   },
   "file_extension": ".py",
   "mimetype": "text/x-python",
   "name": "python",
   "nbconvert_exporter": "python",
   "pygments_lexer": "ipython3",
   "version": "3.9.7"
  },
  "orig_nbformat": 4,
  "vscode": {
   "interpreter": {
    "hash": "5179d32cf6ec497baf3f8a3ef987cc77c5d2dc691fdde20a56316522f61a7323"
   }
  }
 },
 "nbformat": 4,
 "nbformat_minor": 2
}

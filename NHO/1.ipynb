{
 "cells": [
  {
   "cell_type": "markdown",
   "metadata": {},
   "source": [
    "所求方程：\n",
    "$$\n",
    "\\ddot{x} + \\omega_0^2 x + Ax^2 +B x^3 + ... = 0\n",
    "$$\n",
    "假设：\n",
    "$$\n",
    "x(t)=\\sum_{n=-\\infty}^{\\infty} f_n e^{i n \\omega t}\\\\\n",
    "\\omega = \\omega_0 + \\omega_1 +\\omega_2 +\\cdots \\\\\n",
    "f_n=f_n^{(0)}+f_n^{(1)}+f_n^{(2)}+\\cdots\n",
    "$$\n",
    "用阶数命名AB等参数：\n",
    "$$\n",
    "\\omega_0^2\\to A_0\\\\\n",
    "A\\to A_1 \\\\\n",
    "B\\to A_2 \\\\\n",
    "C\\to A_3\n",
    "$$"
   ]
  },
  {
   "cell_type": "markdown",
   "metadata": {},
   "source": [
    "$$\n",
    "\\omega_0^2 x <<Ax^2 <<Bx^3\n",
    "$$"
   ]
  },
  {
   "cell_type": "code",
   "execution_count": 15,
   "metadata": {},
   "outputs": [],
   "source": [
    "\n",
    "import numpy,scipy,sympy\n",
    "from IPython.display import display, Markdown,Latex,display_latex\n",
    "# from utils import *\n",
    "import sympy\n",
    "import itertools,functools\n",
    "from sympy.abc import a,b,x,p,n\n",
    "MAXLEN=10\n",
    "iteration=8\n",
    "def getidx(i):\n",
    "    return i+MAXLEN\n",
    "# ---\n",
    "# import sys\n",
    "# sys.stdout=open(\"output.txt\",'w')\n",
    "# def display(x):\n",
    "#     print(x)\n",
    "# def Latex(x):\n",
    "#     return x\n",
    "# def Markdown(x):\n",
    "#     return x\n",
    "# ---\n",
    "#-------------符号定义----------------------\n",
    "omegas=sympy.symbols(','.join([\"omega_{}\".format(i) for i in range(iteration)]),positive=True)\n",
    "omega_sym_res=[omegas[0]]\n",
    "sym_f =[[sympy.symbols(\"f_{{{}}}^{{({})}}\".format(i,j)) for i in range(-MAXLEN,MAXLEN+1)] for j in range(iteration)] #所有符号\n",
    "f_sym=[sympy.symbols(\"f^{{({})}}\".format(i)) for i in range(iteration)]\n",
    "params=[omegas[0]**2]+[sympy.symbols(\"A_{{{}}}\".format(i)) for i in range(1,iteration)] #Ax^2,Bx^3,...\n",
    "res_f=[[0 for i in range(-MAXLEN,MAXLEN+1)] for j in range(iteration)] #存储结果\n",
    "res_f[0][getidx(1)] = a      #初值\n",
    "res_f[0][getidx(-1)] = a.conjugate()\n",
    "res_conv_f =[ [[0 for i in range(-MAXLEN,MAXLEN+1)] for j in range(iteration)] for k in range(iteration)]\n",
    "res_conv_f[0][0]=res_f[0][:]\n",
    "# res_conv_f[i][k][getidx(n)] #i阶项,k次卷积，第n个值\n",
    "#p 为阶数，计算时为了求出统一阶数，方便合并同阶项，用p为宗量构造多项式，\n",
    "# 即 omega=omega_0 +omega_1 + ... ---->    omega_0 p^0 + omega_1 p^1 + ...\n",
    "f_sym_tmp = sympy.Poly(reversed(f_sym),p)  #多项式，构造用\n",
    "omega_tmp=sympy.Poly(reversed(omegas),p) #omega对应多项式\n",
    "\n",
    "# 构建非线性项：\n",
    "nonlin=0\n",
    "for i in range(iteration):\n",
    "    nonlin+=p**i * f_sym_tmp**(i+1) *params[i]\n",
    "coeffs_tmp = nonlin-n**2 * f_sym_tmp*omega_tmp**2  #e^{in\\omega t}的系数的表达式，对应n的每一项都应该为零\n",
    "coeffs=[]\n",
    "for i in range(iteration):\n",
    "    coeffs.append(coeffs_tmp.coeff_monomial(p**i)) #coeffs[i]: p**i为 order i 的系数表达式，最高取到多少阶是准确的？iteration order！\n",
    "# coeffs[3]\n",
    "\n",
    "#-------------end-------------------------\n",
    "\n",
    "\n",
    "\n",
    "\n",
    "#---------------------函数定义-----------------------------\n",
    "\n",
    "def dconv(a,b,ret=None): #discrete convolution\n",
    "    if ret==[]: \n",
    "        append,ref=True,True\n",
    "    elif ret==None: #return the coeffsult. Do not save in ret\n",
    "        append,ref=False,False\n",
    "    else:\n",
    "        append,ref=False,True\n",
    "    tmp=[]\n",
    "    for u in range(-MAXLEN,MAXLEN+1):\n",
    "        s=0\n",
    "        for n in range(max(u-MAXLEN,-MAXLEN),min(u+MAXLEN,MAXLEN)+1):\n",
    "            s+= a[getidx(n)]*b[getidx(u-n)] \n",
    "        if ref:\n",
    "            if append:\n",
    "                ret.append(s)\n",
    "            else:\n",
    "                ret[getidx(u)]=s\n",
    "        else:\n",
    "            tmp.append(s)\n",
    "    return tmp\n",
    "def dconv_n(a,b,n): #计算离散卷积的第n项\n",
    "    s=0\n",
    "    assert n>=-MAXLEN and n<= MAXLEN\n",
    "    for i in range(max(n-MAXLEN,-MAXLEN),min(n+MAXLEN,MAXLEN)+1):\n",
    "        s+= a[getidx(i)]*b[getidx(n-i)]\n",
    "    return s\n",
    "def kPower_dconv_n(a,k,n):\n",
    "    assert n>= -MAXLEN and n<= MAXLEN \n",
    "    cp=a[:]\n",
    "    for i in range(k-1):\n",
    "        cp=dconv(cp,a)\n",
    "    return cp[n]\n",
    "def gen_dconv(a):\n",
    "    cp=a[:]\n",
    "    while True:\n",
    "        yield cp\n",
    "        cp=dconv(cp,a)\n",
    "\n",
    "def show(f,upperidx=None): #显示输出\n",
    "    if not  upperidx: #不输出上标\n",
    "        for i in range(MAXLEN+1):\n",
    "            if f[getidx(i)]==0:\n",
    "                continue\n",
    "            if i==0:\n",
    "                ltx=sympy.latex(f[getidx(0)])\n",
    "                display(Latex(f\"$f_0={ltx}$\"))\n",
    "            else:\n",
    "                ltx=sympy.latex(f[getidx(i)])\n",
    "                ltx2=sympy.latex(f[getidx(-i)])\n",
    "                display(Latex(f\"$f_{{{i}}}={ltx},\\qquad f_{{{-i}}}={ltx2}$\"))\n",
    "    else:\n",
    "        display(Markdown(f\"# 第{upperidx}阶：\"))\n",
    "        for i in range(MAXLEN+1):\n",
    "            if f[getidx(i)]==0:\n",
    "                continue\n",
    "            if i==0:\n",
    "                ltx=sympy.latex(f[getidx(0)])\n",
    "                display(Latex(f\"$f_0^{{{upperidx}}}={ltx}$\"))\n",
    "            else:\n",
    "                ltx=sympy.latex(f[getidx(i)])\n",
    "                ltx2=sympy.latex(f[getidx(-i)])\n",
    "                display(Latex(f\"$f_{{{i}}}^{{{upperidx}}}={ltx},\\qquad f_{{{-i}}}^{{{upperidx}}}={ltx2}$\"))\n",
    "        \n",
    "def evaluate(expr):\n",
    "    def addlist(*args):\n",
    "        ret=[]\n",
    "        \n",
    "        for i in range(-MAXLEN,MAXLEN+1):\n",
    "            s=0\n",
    "            for ele in args:\n",
    "                s+= ele[getidx(i)]\n",
    "            ret.append(s)\n",
    "            # ret.append(sum([ele[getidx(i)] for ele in args]))\n",
    "        return ret \n",
    "    def eval(expr):\n",
    "        if expr.func == sympy.Add: #应该为表达式树的最顶层，所有列表对应项加起来\n",
    "            args=[]\n",
    "            for i in range(len(expr.args)):\n",
    "                args.append(eval(expr.args[i]))\n",
    "            return addlist(*args)\n",
    "        elif expr.func == sympy.Mul: #考虑(f^(k1))^a1 * (f^(k2))^a2 *... 项\n",
    "            length= len(expr.args)\n",
    "            is_f = [False for _ in range(length)]\n",
    "            pre_calc=[None for _ in range(length)]\n",
    "            for idx,arg in enumerate(expr.args):\n",
    "                if arg.func == sympy.Symbol and arg in f_sym: #一次项\n",
    "                    order=f_sym.index(arg)\n",
    "                    is_f[idx]=True\n",
    "                    pre_calc[idx]=res_conv_f[order][0][:]\n",
    "                elif arg.func == sympy.Pow and arg.args[0] in f_sym: #高阶卷积项\n",
    "                    order=f_sym.index(arg.args[0])\n",
    "                    power=arg.args[1]\n",
    "                    is_f[idx]=True\n",
    "                    pre_calc[idx]=res_conv_f[order][power-1][:]\n",
    "            to_do_conv_set=[]\n",
    "            counter_set=[]\n",
    "            for i in range(length):\n",
    "                if is_f[i] :\n",
    "                    to_do_conv_set.append(pre_calc[i])\n",
    "                else:\n",
    "                    counter_set.append(expr.args[i])\n",
    "            ret = functools.reduce(lambda x,y:dconv(x,y),to_do_conv_set) #列表\n",
    "            const=functools.reduce(lambda x,y:x*y,counter_set,1)\n",
    "            return [const.subs(n,i) * ret[getidx(i)] for i in range(-MAXLEN,MAXLEN+1)]\n",
    "        else:\n",
    "            raise NotImplementedError(\"Not implemented.\")\n",
    "    return eval(expr)\n",
    "def evaluate_omega(expr,symbol):\n",
    "    k=expr.coeff(symbol).subs(n,1)\n",
    "    b=(expr-expr.coeff(symbol)*symbol).subs(n,1)\n",
    "\n",
    "    \n",
    "    k_=evaluate(k)[getidx(1)] #(-n^2+1) \\omega_0^2\n",
    "    b_=evaluate(b)[getidx(1)]\n",
    "\n",
    "    display(Markdown(f\"$k\\omega+b=0$，其中：\"))\n",
    "    display(Latex(f\"$$k={sympy.latex(k)}\\\\\\\\b={sympy.latex(b)}$$\"))\n",
    "    display(Latex(f\"after evaluation:$$k={sympy.latex(k_)}\\\\\\\\b={sympy.latex(b_)}$$\"))\n",
    "    return sympy.simplify(-b_/k_)\n",
    "def evaluate_f(expr,symbol):\n",
    "\n",
    "    b=expr-expr.coeff(symbol)*symbol\n",
    "    k_ = [(-i**2+1)*params[0] for i in range(-MAXLEN,MAXLEN+1)] #系数是固定的，每一阶都相同\n",
    "    b_:list=evaluate(b)\n",
    "    fn=[]\n",
    "    for i in range(-MAXLEN,MAXLEN+1):\n",
    "        idx=getidx(i)\n",
    "        if abs(i)==1:\n",
    "            fn.append(0)\n",
    "        else:\n",
    "            fn.append(sympy.expand(-b_[idx]/k_[idx]))\n",
    "    return fn \n",
    "def evaluate_order(order):\n",
    "    #计算前一项的所有卷积：\n",
    "    display(Markdown(f\"# 第{order}阶计算：\"))\n",
    "    pre=order-1\n",
    "    generator = gen_dconv(res_f[pre][:])\n",
    "    for i in range(iteration):\n",
    "        res_conv_f[pre][i] =next(generator)\n",
    "    #计算omegas[order]的值 n=1\n",
    "    display(Markdown(\"### $\\omega$的计算：\"))\n",
    "    omega=evaluate_omega(coeffs[order],omegas[order])\n",
    "    omega_sym_res.append(omega)\n",
    "    display(Markdown(f\"### $\\omega_{order}={sympy.latex(omega)}$\"))\n",
    "    for i in range(iteration): #对于全部系数：\n",
    "        coeffs[i] =coeffs[i].subs(omegas[order],omega) #代入omega值\n",
    "    display(Markdown(f\"### $f^{{({order})}}$的计算：\"))\n",
    "    res_f[order]=evaluate_f(coeffs[order],f_sym[order])\n",
    "    show(res_f[order],order)\n",
    "from copy import deepcopy\n",
    "def replace_Ak_1(target): #把target阶的A代入1，其他为0，求出对应的f和omega\n",
    "    res_f_cpy=deepcopy(res_f)\n",
    "    omega_sym_res_cpy=deepcopy(omega_sym_res)\n",
    "    \n",
    "    replacement=[]\n",
    "    for i in range(1,iteration):\n",
    "        if i==target:\n",
    "            replacement.append((params[i],1))\n",
    "        else:\n",
    "            replacement.append((params[i],0))\n",
    "    for i in range(iteration):\n",
    "        \n",
    "        if not omega_sym_res_cpy[i]==0:\n",
    "            omega_sym_res_cpy[i]=omega_sym_res_cpy[i].subs(replacement)\n",
    "        for idx in range(-MAXLEN,MAXLEN+1):\n",
    "            # print(res_f_cpy[i][getidx(idx)])\n",
    "            if not res_f_cpy[i][getidx(idx)]==0:\n",
    "                res_f_cpy[i][getidx(idx)]=res_f_cpy[i][getidx(idx)].subs(replacement)\n",
    "    display(Markdown(f\"## 代入第{target}阶：$A_{{{target}}}=1,else=0$\"))\n",
    "    for order in range(iteration):\n",
    "        display(Markdown(f\"### $\\omega_{order}={sympy.latex(omega_sym_res_cpy[order])}$\"))\n",
    "        show(res_f_cpy[order],order)\n",
    "    \n",
    "#f0 的卷积除以f0不是降幂次！所以不能用solve直接除\n",
    "\n",
    "#----------------end----------------------\n"
   ]
  },
  {
   "cell_type": "code",
   "execution_count": 26,
   "metadata": {},
   "outputs": [
    {
     "data": {
      "text/latex": [
       "$f_0=2 a \\overline{a}$"
      ],
      "text/plain": [
       "<IPython.core.display.Latex object>"
      ]
     },
     "metadata": {},
     "output_type": "display_data"
    },
    {
     "data": {
      "text/latex": [
       "$f_{2}=a^{2},\\qquad f_{-2}=\\overline{a}^{2}$"
      ],
      "text/plain": [
       "<IPython.core.display.Latex object>"
      ]
     },
     "metadata": {},
     "output_type": "display_data"
    }
   ],
   "source": [
    "show(res_conv_f[0][1])"
   ]
  },
  {
   "cell_type": "code",
   "execution_count": null,
   "metadata": {},
   "outputs": [],
   "source": [
    "\n",
    "# main:\n",
    "for i in range(1,iteration):\n",
    "    evaluate_order(i)\n",
    "for i in range(1,iteration):\n",
    "    replace_Ak_1(i)"
   ]
  },
  {
   "cell_type": "markdown",
   "metadata": {},
   "source": [
    "### 第二阶计算(以下为手动计算，有错误,请勿参考）：\n",
    "$$\n",
    "\\omega_2 = \\frac{2A_1(f^{(1)}*f^{(0)})_{\\pm 1}+A_2(f^{(0)})^3_{\\pm 1}}{2\\omega_0 f^{(0)}_{\\pm 1}}=\\frac{5A_1^2}{3\\omega_0^3}(a^2+b^2)\\\\\n",
    "$$\n",
    "$$\n",
    "f^0_{\\pm 1}=a\\pm i b\\\\\n",
    "(f^0)^3_{\\pm 1}=0\\\\\n",
    "(f^{1}*f^{0})_{\\pm 1}=-\\frac{5A_1(a^2+b^2)(a\\pm i b)}{3\\omega_0^2}\n",
    "$$\n",
    "代入$\\omega_2$的值："
   ]
  },
  {
   "cell_type": "code",
   "execution_count": 6,
   "metadata": {},
   "outputs": [
    {
     "data": {
      "text/latex": [
       "$f_{1}=3 a^{2} \\overline{a},\\qquad f_{-1}=3 a \\overline{a}^{2}$"
      ],
      "text/plain": [
       "<IPython.core.display.Latex object>"
      ]
     },
     "metadata": {},
     "output_type": "display_data"
    },
    {
     "data": {
      "text/latex": [
       "$f_{3}=a^{3},\\qquad f_{-3}=\\overline{a}^{3}$"
      ],
      "text/plain": [
       "<IPython.core.display.Latex object>"
      ]
     },
     "metadata": {},
     "output_type": "display_data"
    },
    {
     "ename": "IndexError",
     "evalue": "list index out of range",
     "output_type": "error",
     "traceback": [
      "\u001b[1;31m---------------------------------------------------------------------------\u001b[0m",
      "\u001b[1;31mIndexError\u001b[0m                                Traceback (most recent call last)",
      "\u001b[1;32mC:\\Users\\LIFEIS~1\\AppData\\Local\\Temp/ipykernel_14088/740584194.py\u001b[0m in \u001b[0;36m<module>\u001b[1;34m\u001b[0m\n\u001b[0;32m     25\u001b[0m \u001b[1;32mfor\u001b[0m \u001b[0mi\u001b[0m \u001b[1;32min\u001b[0m \u001b[0mrange\u001b[0m\u001b[1;33m(\u001b[0m\u001b[1;36m1\u001b[0m\u001b[1;33m,\u001b[0m\u001b[0miteration\u001b[0m\u001b[1;33m)\u001b[0m\u001b[1;33m:\u001b[0m\u001b[1;33m\u001b[0m\u001b[1;33m\u001b[0m\u001b[0m\n\u001b[0;32m     26\u001b[0m     \u001b[0mcoeffs_1\u001b[0m \u001b[1;33m=\u001b[0m \u001b[0mcoeffs\u001b[0m\u001b[1;33m[\u001b[0m\u001b[0mi\u001b[0m\u001b[1;33m]\u001b[0m\u001b[1;33m.\u001b[0m\u001b[0msubs\u001b[0m\u001b[1;33m(\u001b[0m\u001b[0mn\u001b[0m\u001b[1;33m,\u001b[0m\u001b[1;36m1\u001b[0m\u001b[1;33m)\u001b[0m\u001b[1;33m\u001b[0m\u001b[1;33m\u001b[0m\u001b[0m\n\u001b[1;32m---> 27\u001b[1;33m     \u001b[0momega_res\u001b[0m\u001b[1;33m.\u001b[0m\u001b[0mappend\u001b[0m\u001b[1;33m(\u001b[0m\u001b[0msympy\u001b[0m\u001b[1;33m.\u001b[0m\u001b[0mexpand\u001b[0m\u001b[1;33m(\u001b[0m\u001b[0msympy\u001b[0m\u001b[1;33m.\u001b[0m\u001b[0msolve\u001b[0m\u001b[1;33m(\u001b[0m\u001b[0mcoeffs_1\u001b[0m\u001b[1;33m,\u001b[0m\u001b[0momegas\u001b[0m\u001b[1;33m[\u001b[0m\u001b[0mi\u001b[0m\u001b[1;33m]\u001b[0m\u001b[1;33m)\u001b[0m\u001b[1;33m[\u001b[0m\u001b[1;36m0\u001b[0m\u001b[1;33m]\u001b[0m\u001b[1;33m)\u001b[0m\u001b[1;33m)\u001b[0m\u001b[1;33m\u001b[0m\u001b[1;33m\u001b[0m\u001b[0m\n\u001b[0m\u001b[0;32m     28\u001b[0m     \u001b[0mdisplay\u001b[0m\u001b[1;33m(\u001b[0m\u001b[0mLatex\u001b[0m\u001b[1;33m(\u001b[0m\u001b[1;34mf\"${sympy.latex(omegas[i])}={sympy.latex(omega_res[i])}$\"\u001b[0m\u001b[1;33m)\u001b[0m\u001b[1;33m)\u001b[0m\u001b[1;33m\u001b[0m\u001b[1;33m\u001b[0m\u001b[0m\n\u001b[0;32m     29\u001b[0m \u001b[1;33m\u001b[0m\u001b[0m\n",
      "\u001b[1;31mIndexError\u001b[0m: list index out of range"
     ]
    }
   ],
   "source": [
    "# show(dconv(res_conv_f[1][0],res_conv_f[0][0]))\n",
    "ret=dconv(dconv(res_f[0],res_f[0]),res_f[0])\n",
    "show(ret)\n",
    "#计算卷积的结果（a,b）：\n",
    "conv=[[0 for _ in range(-MAXLEN,MAXLEN+1)] for i in range(iteration)]\n",
    "dconv(res_f[0],res_f[0],conv[0]) #conv[i]为i+1次卷积得到的结果\n",
    "for i in range(iteration-1):\n",
    "    dconv(res_f[0],conv[i],conv[i+1])\n",
    "#把最高阶的项表示出来，相当于求ax+b=0,这样当我们有了低阶项之后 可以一项一项地向上计算\n",
    "\n",
    "fn_res=[]\n",
    "# display(Markdown(\"# 求出各个f^i的表达式：\"))\n",
    "for i in range(iteration):\n",
    "    result = sympy.solve(coeffs[i],f_sym[i])[0]\n",
    "    fn_res.append(result)\n",
    "    # display(Latex(f\"${sympy.latex(f_sym[i])}={sympy.latex(fn_res[i])}$\"))\n",
    "omega_res=[None]\n",
    "#\n",
    "# for i in range(1,iteration):# 第零阶不可计算\n",
    "#     coeffs_1=coeffs[i].subs(n,1)# 代入n=1，计算omega的值\n",
    "#     omega_res.append(sympy.solve(coeffs_1,omegas[i])[0])\n",
    "    # display(Latex(f\"${sympy.latex(omegas[i])}={sympy.latex(omega_res[i])}$\")) \n",
    "#我们通过第一阶的计算，求出了omega_1=0，和$f_n^(1)$的值(n=+-1 undefined?)。用expr.subs来化简式子：\n",
    "\n",
    "for i in range(1,iteration):\n",
    "    coeffs_1 = coeffs[i].subs(n,1)\n",
    "    omega_res.append(sympy.expand(sympy.solve(coeffs_1,omegas[i])[0]))\n",
    "    display(Latex(f\"${sympy.latex(omegas[i])}={sympy.latex(omega_res[i])}$\")) \n",
    "\n",
    "# display(Markdown(\"# 代入$\\omega_1=0$之后：\"))\n",
    "res_f[1] = [params[1]/params[0]/(n**2-1) *dconv_n(res_f[0],res_f[0],n) if abs(n)!=1 else 0  for n in range(-MAXLEN,MAXLEN+1)]\n",
    "\n",
    "for i in range(iteration):\n",
    "    fn_res[i]=fn_res[i].subs(omegas[1],0) #化简\n",
    "    # display(Latex(f\"${sympy.latex( f_sym[i])}={sympy.latex(fn_res[i])}$\"))\n",
    "show(res_f[1])\n",
    "for i in range(iteration):\n",
    "    fn_res[i]=fn_res[i].subs(omegas[2],5*params[1]**2/3/omegas[0]**3*(a**2+b**2))\n",
    "    # display(Latex(f\"${sympy.latex(f_sym[i])}={sympy.latex(fn_res[i])}$\"))\n"
   ]
  },
  {
   "cell_type": "code",
   "execution_count": 14,
   "metadata": {},
   "outputs": [
    {
     "data": {
      "text/latex": [
       "$f_{1}=a^{2} \\left(a^{2} \\overline{a}^{3} + 3 a \\overline{a}^{2}\\right) + 2 a^{2} \\overline{a},\\qquad f_{-1}=a^{2} \\overline{a}^{3} + 3 a \\overline{a}^{2}$"
      ],
      "text/plain": [
       "<IPython.core.display.Latex object>"
      ]
     },
     "metadata": {},
     "output_type": "display_data"
    },
    {
     "data": {
      "text/latex": [
       "$f_{3}=a^{2} \\left(a^{2} \\left(a^{2} \\overline{a}^{3} + 3 a \\overline{a}^{2}\\right) + 2 a^{2} \\overline{a}\\right),\\qquad f_{-3}=\\overline{a}^{3}$"
      ],
      "text/plain": [
       "<IPython.core.display.Latex object>"
      ]
     },
     "metadata": {},
     "output_type": "display_data"
    },
    {
     "data": {
      "text/latex": [
       "$f_{5}=a^{4} \\left(a^{2} \\left(a^{2} \\overline{a}^{3} + 3 a \\overline{a}^{2}\\right) + 2 a^{2} \\overline{a}\\right),\\qquad f_{-5}=0$"
      ],
      "text/plain": [
       "<IPython.core.display.Latex object>"
      ]
     },
     "metadata": {},
     "output_type": "display_data"
    },
    {
     "data": {
      "text/latex": [
       "$f_{7}=a^{6} \\left(a^{2} \\left(a^{2} \\overline{a}^{3} + 3 a \\overline{a}^{2}\\right) + 2 a^{2} \\overline{a}\\right),\\qquad f_{-7}=0$"
      ],
      "text/plain": [
       "<IPython.core.display.Latex object>"
      ]
     },
     "metadata": {},
     "output_type": "display_data"
    },
    {
     "data": {
      "text/latex": [
       "$f_{9}=a^{8} \\left(a^{2} \\left(a^{2} \\overline{a}^{3} + 3 a \\overline{a}^{2}\\right) + 2 a^{2} \\overline{a}\\right),\\qquad f_{-9}=0$"
      ],
      "text/plain": [
       "<IPython.core.display.Latex object>"
      ]
     },
     "metadata": {},
     "output_type": "display_data"
    }
   ],
   "source": [
    "res_f[2]=[(2*params[1] *dconv_n(res_f[0],res_f[1],n)+ params[2] *conv[1][getidx(n)] -10*params[1]**2/(3*omegas[0]**2) *n**2*res_f[0][getidx(n)]*(a**2+b**2) )/((n**2-1)*params[0]) if abs(n)!=1 else 0 for n in range(-MAXLEN,MAXLEN+1)]\n",
    "# show(coef[0],0)\n",
    "# show(res_f[1],1)\n",
    "# show(res_f[2],2)\n"
   ]
  },
  {
   "cell_type": "markdown",
   "metadata": {},
   "source": [
    "# 第三阶计算：\n",
    "\n",
    "$$\n",
    "\\omega_3=0\n",
    "$$"
   ]
  },
  {
   "cell_type": "code",
   "execution_count": null,
   "metadata": {},
   "outputs": [],
   "source": [
    "# show(conv[2]) +-1项为0\n",
    "# show(dconv(res_f[1],res_f[1])) #+-1项为0\n",
    "# show(dconv(res_f[0],res_f[2])) #0\n",
    "# show(dconv(conv[0],res_f[1])) #0\n",
    "# show(res_f[1]) #0\n",
    "# show(res_f[0]) #not 0\n",
    "for i in range(iteration):\n",
    "    fn_res[i]=fn_res[i].subs(omegas[3],0)\n",
    "    # display(Latex(f\"${sympy.latex(f_sym[i])}={sympy.latex(fn_res[i])}$\"))"
   ]
  },
  {
   "cell_type": "code",
   "execution_count": null,
   "metadata": {},
   "outputs": [
    {
     "data": {
      "text/latex": [
       "$f_0=- \\frac{\\frac{38 A_{1}^{3} \\left(a - 1.0 i b\\right)^{2} \\left(a + 1.0 i b\\right)^{2}}{9 \\omega_{0}^{4}} - \\frac{10 A_{1} A_{2} \\left(a - 1.0 i b\\right)^{2} \\left(a + 1.0 i b\\right)^{2}}{\\omega_{0}^{2}} + 6 A_{3} \\left(a - 1.0 i b\\right)^{2} \\left(a + 1.0 i b\\right)^{2}}{\\omega_{0}^{2}}$"
      ],
      "text/plain": [
       "<IPython.core.display.Latex object>"
      ]
     },
     "metadata": {},
     "output_type": "display_data"
    },
    {
     "data": {
      "text/latex": [
       "$f_{1}=0,\\qquad f_{-1}=0$"
      ],
      "text/plain": [
       "<IPython.core.display.Latex object>"
      ]
     },
     "metadata": {},
     "output_type": "display_data"
    },
    {
     "data": {
      "text/latex": [
       "$f_{2}=\\frac{- \\frac{4 A_{1}^{3} \\left(a - 1.0 i b\\right) \\left(a + 1.0 i b\\right)^{3}}{3 \\omega_{0}^{4}} - \\frac{40 A_{1}^{3} \\left(a + 1.0 i b\\right)^{2} \\left(a^{2} + b^{2}\\right)}{9 \\omega_{0}^{4}} - \\frac{4 A_{1} A_{2} \\left(a - 1.0 i b\\right) \\left(a + 1.0 i b\\right)^{3}}{\\omega_{0}^{2}} - \\frac{A_{1} \\left(a - 1.0 i b\\right) \\left(- \\frac{2 A_{1}^{2} \\left(a + 1.0 i b\\right)^{3}}{3 \\omega_{0}^{2}} - A_{2} \\left(a + 1.0 i b\\right)^{3}\\right)}{4 \\omega_{0}^{2}} + 4 A_{3} \\left(a - 1.0 i b\\right) \\left(a + 1.0 i b\\right)^{3}}{3 \\omega_{0}^{2}},\\qquad f_{-2}=\\frac{- \\frac{4 A_{1}^{3} \\left(a - 1.0 i b\\right)^{3} \\left(a + 1.0 i b\\right)}{3 \\omega_{0}^{4}} - \\frac{40 A_{1}^{3} \\left(a - 1.0 i b\\right)^{2} \\left(a^{2} + b^{2}\\right)}{9 \\omega_{0}^{4}} - \\frac{4 A_{1} A_{2} \\left(a - 1.0 i b\\right)^{3} \\left(a + 1.0 i b\\right)}{\\omega_{0}^{2}} - \\frac{A_{1} \\left(a + 1.0 i b\\right) \\left(- \\frac{2 A_{1}^{2} \\left(a - 1.0 i b\\right)^{3}}{3 \\omega_{0}^{2}} - A_{2} \\left(a - 1.0 i b\\right)^{3}\\right)}{4 \\omega_{0}^{2}} + 4 A_{3} \\left(a - 1.0 i b\\right)^{3} \\left(a + 1.0 i b\\right)}{3 \\omega_{0}^{2}}$"
      ],
      "text/plain": [
       "<IPython.core.display.Latex object>"
      ]
     },
     "metadata": {},
     "output_type": "display_data"
    },
    {
     "data": {
      "text/latex": [
       "$f_{3}=0,\\qquad f_{-3}=0$"
      ],
      "text/plain": [
       "<IPython.core.display.Latex object>"
      ]
     },
     "metadata": {},
     "output_type": "display_data"
    },
    {
     "data": {
      "text/latex": [
       "$f_{4}=\\frac{\\frac{A_{1}^{3} \\left(a + 1.0 i b\\right)^{4}}{9 \\omega_{0}^{4}} + \\frac{A_{1} A_{2} \\left(a + 1.0 i b\\right)^{4}}{\\omega_{0}^{2}} - \\frac{A_{1} \\left(a + 1.0 i b\\right) \\left(- \\frac{2 A_{1}^{2} \\left(a + 1.0 i b\\right)^{3}}{3 \\omega_{0}^{2}} - A_{2} \\left(a + 1.0 i b\\right)^{3}\\right)}{4 \\omega_{0}^{2}} + A_{3} \\left(a + 1.0 i b\\right)^{4}}{15 \\omega_{0}^{2}},\\qquad f_{-4}=\\frac{\\frac{A_{1}^{3} \\left(a - 1.0 i b\\right)^{4}}{9 \\omega_{0}^{4}} + \\frac{A_{1} A_{2} \\left(a - 1.0 i b\\right)^{4}}{\\omega_{0}^{2}} - \\frac{A_{1} \\left(a - 1.0 i b\\right) \\left(- \\frac{2 A_{1}^{2} \\left(a - 1.0 i b\\right)^{3}}{3 \\omega_{0}^{2}} - A_{2} \\left(a - 1.0 i b\\right)^{3}\\right)}{4 \\omega_{0}^{2}} + A_{3} \\left(a - 1.0 i b\\right)^{4}}{15 \\omega_{0}^{2}}$"
      ],
      "text/plain": [
       "<IPython.core.display.Latex object>"
      ]
     },
     "metadata": {},
     "output_type": "display_data"
    },
    {
     "data": {
      "text/latex": [
       "$f_{5}=0,\\qquad f_{-5}=0$"
      ],
      "text/plain": [
       "<IPython.core.display.Latex object>"
      ]
     },
     "metadata": {},
     "output_type": "display_data"
    },
    {
     "data": {
      "text/latex": [
       "$f_{6}=0,\\qquad f_{-6}=0$"
      ],
      "text/plain": [
       "<IPython.core.display.Latex object>"
      ]
     },
     "metadata": {},
     "output_type": "display_data"
    },
    {
     "data": {
      "text/latex": [
       "$f_{7}=0,\\qquad f_{-7}=0$"
      ],
      "text/plain": [
       "<IPython.core.display.Latex object>"
      ]
     },
     "metadata": {},
     "output_type": "display_data"
    },
    {
     "data": {
      "text/latex": [
       "$f_{8}=0,\\qquad f_{-8}=0$"
      ],
      "text/plain": [
       "<IPython.core.display.Latex object>"
      ]
     },
     "metadata": {},
     "output_type": "display_data"
    },
    {
     "data": {
      "text/latex": [
       "$f_{9}=0,\\qquad f_{-9}=0$"
      ],
      "text/plain": [
       "<IPython.core.display.Latex object>"
      ]
     },
     "metadata": {},
     "output_type": "display_data"
    },
    {
     "data": {
      "text/latex": [
       "$f_{10}=0,\\qquad f_{-10}=0$"
      ],
      "text/plain": [
       "<IPython.core.display.Latex object>"
      ]
     },
     "metadata": {},
     "output_type": "display_data"
    }
   ],
   "source": [
    "res_f[3]=[(-(10*params[1]**2*res_f[1][getidx(n)]*n**2*(a**2+b**2))/(3*params[0])+2*params[1]*dconv_n(res_f[0],res_f[2],n)+params[1]*dconv_n(res_f[1],res_f[1],n)+3*params[2]*dconv_n(conv[0],res_f[1],n)+params[3]*conv[2][getidx(n)] )/(params[0]*(n**2-1)) if abs(n)!=1 else 0 for n in range(-MAXLEN,MAXLEN+1)]\n",
    "show(res_f[3])"
   ]
  },
  {
   "cell_type": "code",
   "execution_count": null,
   "metadata": {},
   "outputs": [],
   "source": [
    "u,v=sympy.symbols(\"u v \")\n",
    "w=sympy.expand(u*(v+1))\n",
    "w=(u*(v+1))\n",
    "sympy.srepr(w)\n",
    "sympy.Pow(w,2)\n",
    "expr = sympy.Add(u,u)\n",
    "expr.func\n",
    "sympy.core.numbers.Zero()\n",
    "expr = 3*u **2 * v\n",
    "expr\n",
    "expr.func,expr.args\n",
    "w=expr.args[2]\n",
    "w.args[0].args"
   ]
  }
 ],
 "metadata": {
  "interpreter": {
   "hash": "5179d32cf6ec497baf3f8a3ef987cc77c5d2dc691fdde20a56316522f61a7323"
  },
  "kernelspec": {
   "display_name": "Python 3.9.7 ('base')",
   "language": "python",
   "name": "python3"
  },
  "language_info": {
   "codemirror_mode": {
    "name": "ipython",
    "version": 3
   },
   "file_extension": ".py",
   "mimetype": "text/x-python",
   "name": "python",
   "nbconvert_exporter": "python",
   "pygments_lexer": "ipython3",
   "version": "3.9.7"
  },
  "orig_nbformat": 4
 },
 "nbformat": 4,
 "nbformat_minor": 2
}
